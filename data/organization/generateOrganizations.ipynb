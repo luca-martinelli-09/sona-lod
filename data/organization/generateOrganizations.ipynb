{
 "cells": [
  {
   "cell_type": "markdown",
   "metadata": {},
   "source": [
    "# Organizations\n",
    "\n",
    "Generate a Graph for Private Organizations"
   ]
  },
  {
   "cell_type": "markdown",
   "metadata": {},
   "source": [
    "### Imports\n",
    "\n",
    "Into utils are stored constants for namespaces, vocabularies and common functions"
   ]
  },
  {
   "cell_type": "code",
   "execution_count": null,
   "metadata": {},
   "outputs": [],
   "source": [
    "# Set autoreload for imported packages\n",
    "\n",
    "%load_ext autoreload\n",
    "%autoreload 2\n"
   ]
  },
  {
   "cell_type": "code",
   "execution_count": null,
   "metadata": {},
   "outputs": [],
   "source": [
    "# Import utils\n",
    "import os\n",
    "import sys\n",
    "\n",
    "rootFolder = os.path.abspath(\n",
    "    os.path.dirname(\n",
    "        os.path.dirname(\n",
    "            os.path.abspath(\"__file__\"))))\n",
    "\n",
    "sys.path.append(rootFolder)"
   ]
  },
  {
   "cell_type": "code",
   "execution_count": null,
   "metadata": {},
   "outputs": [],
   "source": [
    "from utils import *"
   ]
  },
  {
   "cell_type": "code",
   "execution_count": null,
   "metadata": {},
   "outputs": [],
   "source": [
    "# Imports other required packages\n",
    "\n",
    "import pandas as pd\n",
    "\n",
    "from rdflib import Literal\n",
    "\n",
    "from rdflib.namespace import XSD\n",
    "\n",
    "from alive_progress import alive_bar"
   ]
  },
  {
   "cell_type": "code",
   "execution_count": null,
   "metadata": {},
   "outputs": [],
   "source": [
    "# Import OntoPiA packages\n",
    "\n",
    "from ontopia_py import ConceptScheme, saveGraph\n",
    "from ontopia_py.ns import *\n",
    "from ontopia_py.clv import *\n",
    "from ontopia_py.cov import *\n",
    "from ontopia_py.sm import *"
   ]
  },
  {
   "cell_type": "code",
   "execution_count": null,
   "metadata": {},
   "outputs": [],
   "source": [
    "config = getConfig(\"../conf.ini\")\n",
    "\n",
    "BASE_URL = config.get(\"API\", \"base_url\")"
   ]
  },
  {
   "cell_type": "markdown",
   "metadata": {},
   "source": [
    "## Graph creation"
   ]
  },
  {
   "cell_type": "code",
   "execution_count": null,
   "metadata": {},
   "outputs": [],
   "source": [
    "g = createGraph()"
   ]
  },
  {
   "cell_type": "code",
   "execution_count": null,
   "metadata": {},
   "outputs": [],
   "source": [
    "# Create a ConceptScheme\n",
    "ORGANIZATIONS_DATA = ConceptScheme(COV_DATA)\n",
    "\n",
    "# Set the properties\n",
    "ORGANIZATIONS_DATA.label = [\n",
    "    Literal(\"Imprese\", lang=\"it\"),\n",
    "    Literal(\"Companies\", lang=\"en\")\n",
    "]\n",
    "ORGANIZATIONS_DATA.creator = [ONTO_AUTHOR]\n",
    "\n",
    "# And add to graph\n",
    "ORGANIZATIONS_DATA.addToGraph(g)\n"
   ]
  },
  {
   "cell_type": "code",
   "execution_count": null,
   "metadata": {},
   "outputs": [],
   "source": [
    "# Get the data\n",
    "\n",
    "datasetID = config.get(\"ORGANIZATIONS\", \"dataset\")\n",
    "\n",
    "# Accomodation facilities\n",
    "organizations = getOpenData(\n",
    "    BASE_URL, datasetID, config.get(\"ORGANIZATIONS\", \"organizations\"), dtype={'IVA': str, 'CODICE_FISCALE': str})\n",
    "organizations = organizations.set_index([\"IVA\"])\n"
   ]
  },
  {
   "cell_type": "code",
   "execution_count": null,
   "metadata": {},
   "outputs": [],
   "source": [
    "# Create emails, phones and websites (to avoid repetitions)\n",
    "\n",
    "allPecs = pd.DataFrame(organizations[\"PEC\"]).dropna(\n",
    ").drop_duplicates().set_index([\"PEC\"])\n",
    "for pecAddress, _ in allPecs.iterrows():\n",
    "    pec = Email(\n",
    "        id=\"pec-\" + genNameForID(pecAddress),\n",
    "        baseUri=COV_DATA,\n",
    "        dataset=ORGANIZATIONS_DATA,\n",
    "        titles=[Literal(pecAddress, datatype=XSD.string)]\n",
    "    )\n",
    "\n",
    "    pec.hasEmailType = EmailType(id=\"041\", baseUri=EROGATION_CHANNELS)\n",
    "    pec.emailAddress = Literal(\"mailto:\" + pecAddress, datatype=XSD.anyURI)\n",
    "\n",
    "    pec.addToGraph(g, isTopConcept=False)\n"
   ]
  },
  {
   "cell_type": "code",
   "execution_count": null,
   "metadata": {},
   "outputs": [],
   "source": [
    "with alive_bar(len(organizations), dual_line=True, title='🏭 Organizations') as bar:\n",
    "    for vatCode, organizationInfo in organizations.iterrows():\n",
    "        denominazione = standardizeName(organizationInfo[\"DENOMINAZIONE\"])\n",
    "\n",
    "        bar.text = f'-> Adding {denominazione}'\n",
    "\n",
    "        codsAteco = organizationInfo[\"COD_ATECO\"]\n",
    "\n",
    "        taxCode = organizationInfo[\"CODICE_FISCALE\"]\n",
    "        reaCode = organizationInfo[\"REA\"]\n",
    "\n",
    "        codTipologia = organizationInfo[\"COD_TIPOLOGIA\"]\n",
    "        pecAddress = organizationInfo[\"PEC\"]\n",
    "\n",
    "        startActivityDate = organizationInfo[\"INIZIO_ATTIVITA\"]\n",
    "        endActivityDate = organizationInfo[\"FINE_ATTIVITA\"]\n",
    "\n",
    "        progrNazionale = organizationInfo[\"PROGR_NAZIONALE\"]\n",
    "        progrCivico = organizationInfo[\"PROGR_CIVICO\"] if not pd.isna(\n",
    "            organizationInfo[\"PROGR_CIVICO\"]) else \"snc\"\n",
    "\n",
    "        legalStatus = LegalStatus(\n",
    "            id=codTipologia.replace(\".\", \"\"),\n",
    "            baseUri=ORG_LEGAL_STATUS\n",
    "        )\n",
    "\n",
    "        # Create organization\n",
    "        organization = PrivateOrganization(\n",
    "            id=\"org-\" + str(vatCode),\n",
    "            baseUri=COV_DATA,\n",
    "            dataset=ORGANIZATIONS_DATA,\n",
    "            titles=[Literal(denominazione, datatype=XSD.string)]\n",
    "        )\n",
    "\n",
    "        # Add attributes to organization\n",
    "        organization.legalName = [Literal(denominazione, datatype=XSD.string)]\n",
    "        organization.VATnumber = Literal(vatCode, datatype=XSD.string)\n",
    "        organization.taxCode = Literal(taxCode, datatype=XSD.string)\n",
    "        organization.REANumber = Literal(reaCode, datatype=XSD.string)\n",
    "        organization.hasLegalStatus = legalStatus\n",
    "\n",
    "        if not pd.isna(startActivityDate):\n",
    "            organization.startingActivityDate = Literal(\n",
    "                startActivityDate, datatype=XSD.date)\n",
    "\n",
    "        # Get address reference\n",
    "        if not pd.isna(progrNazionale):\n",
    "            address = Address(\n",
    "                id=\"ad-{}-{}\".format(progrNazionale, progrCivico),\n",
    "                baseUri=ANNCSU\n",
    "            )\n",
    "\n",
    "            organization.hasPrimaryAddress = address\n",
    "\n",
    "        organization.hasPrivateOrgActivityType = []\n",
    "        for codAteco in codsAteco.split(\",\"):\n",
    "            atecoType = PrivateOrgActivityType(\n",
    "                id=codAteco.replace(\".\", \"\"),\n",
    "                baseUri=ORG_ATECO\n",
    "            )\n",
    "            organization.hasPrivateOrgActivityType.append(atecoType)\n",
    "\n",
    "        # Create online contact points\n",
    "        onlineContactPoint = OnlineContactPoint(\n",
    "            id=\"ocp-\" + str(vatCode),\n",
    "            baseUri=COV_DATA,\n",
    "            dataset=ORGANIZATIONS_DATA,\n",
    "            titles=[\n",
    "                Literal(\"Informazioni di contatto per \" +\n",
    "                        denominazione, lang=\"it\"),\n",
    "                Literal(\"Contact information for \" + denominazione, lang=\"en\"),\n",
    "            ]\n",
    "        )\n",
    "\n",
    "        if not pd.isna(pecAddress):\n",
    "            pec = Email(\n",
    "                id=\"pec-\" + genNameForID(pecAddress),\n",
    "                baseUri=COV_DATA\n",
    "            )\n",
    "            onlineContactPoint.hasCertifiedEmail = [pec]\n",
    "\n",
    "            organization.hasOnlineContactPoint = onlineContactPoint\n",
    "\n",
    "            onlineContactPoint.addToGraph(g, isTopConcept=False)\n",
    "\n",
    "        organization.addToGraph(g, isTopConcept=True)\n",
    "\n",
    "        bar()\n"
   ]
  },
  {
   "cell_type": "code",
   "execution_count": null,
   "metadata": {},
   "outputs": [],
   "source": [
    "# Save graph\n",
    "saveGraph(g, \"organizations\")"
   ]
  }
 ],
 "metadata": {
  "kernelspec": {
   "display_name": "Python 3.10.5 64-bit",
   "language": "python",
   "name": "python3"
  },
  "language_info": {
   "codemirror_mode": {
    "name": "ipython",
    "version": 3
   },
   "file_extension": ".py",
   "mimetype": "text/x-python",
   "name": "python",
   "nbconvert_exporter": "python",
   "pygments_lexer": "ipython3",
   "version": "3.10.5"
  },
  "orig_nbformat": 4,
  "vscode": {
   "interpreter": {
    "hash": "369f2c481f4da34e4445cda3fffd2e751bd1c4d706f27375911949ba6bb62e1c"
   }
  }
 },
 "nbformat": 4,
 "nbformat_minor": 2
}
